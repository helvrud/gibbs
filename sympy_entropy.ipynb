{
 "cells": [
  {
   "cell_type": "markdown",
   "metadata": {},
   "source": [
    "# Entropy change when moving ion pair\n",
    "\n",
    "## Given"
   ]
  },
  {
   "cell_type": "code",
   "execution_count": 1,
   "metadata": {},
   "outputs": [],
   "source": [
    "from sympy import Symbol, Eq, solve, sqrt, log, factorial\n",
    "import sympy\n",
    "\n",
    "ksi = Symbol(r'\\xi', integer = True) #determens direction\n",
    "anion_0=Symbol('N_0^{I}', positive=True, integer=True)\n",
    "anion_1=Symbol('N_0^{II}', positive=True, integer=True)\n",
    "cation_0=Symbol('N_1^{I}', positive=True, integer=True)\n",
    "cation_1=Symbol('N_1^{II}', positive=True, integer=True)\n",
    "volume_0 = Symbol('V^{I}', positive=True)\n",
    "volume_1 = Symbol('V^{II}', positive=True)"
   ]
  },
  {
   "cell_type": "markdown",
   "metadata": {},
   "source": [
    "## Entropy change"
   ]
  },
  {
   "cell_type": "code",
   "execution_count": 2,
   "metadata": {},
   "outputs": [
    {
     "data": {
      "text/latex": [
       "$\\displaystyle \\log{\\left(\\frac{V^{N}}{N!} \\right)}$"
      ],
      "text/plain": [
       "log(V**N/factorial(N))"
      ]
     },
     "execution_count": 2,
     "metadata": {},
     "output_type": "execute_result"
    }
   ],
   "source": [
    "V = Symbol('V')\n",
    "N = Symbol('N')\n",
    "S = log(V**N/factorial(N))\n",
    "S"
   ]
  },
  {
   "cell_type": "code",
   "execution_count": 3,
   "metadata": {},
   "outputs": [
    {
     "data": {
      "text/latex": [
       "$\\displaystyle 2 \\xi \\log{\\left(V^{I} \\right)} + \\log{\\left(N_0^{I}! \\right)} + \\log{\\left(N_1^{I}! \\right)} + \\log{\\left(\\frac{1}{\\left(N_0^{I} + \\xi\\right)!} \\right)} + \\log{\\left(\\frac{1}{\\left(N_1^{I} + \\xi\\right)!} \\right)}$"
      ],
      "text/plain": [
       "2*\\xi*log(V^{I}) + log(factorial(N_0^{I})) + log(factorial(N_1^{I})) + log(1/factorial(N_0^{I} + \\xi)) + log(1/factorial(N_1^{I} + \\xi))"
      ]
     },
     "execution_count": 3,
     "metadata": {},
     "output_type": "execute_result"
    }
   ],
   "source": [
    "delta_S_0 = S.subs(V,volume_0).subs(N, anion_0+ksi) - S.subs(V,volume_0).subs(N, anion_0) + S.subs(V,volume_0).subs(N, cation_0+ksi) - S.subs(V,volume_0).subs(N, cation_0)\n",
    "delta_S_0.factor()"
   ]
  },
  {
   "cell_type": "code",
   "execution_count": 4,
   "metadata": {},
   "outputs": [
    {
     "data": {
      "text/latex": [
       "$\\displaystyle - 2 \\xi \\log{\\left(V^{II} \\right)} + \\log{\\left(N_0^{II}! \\right)} + \\log{\\left(N_1^{II}! \\right)} + \\log{\\left(\\frac{1}{\\left(N_0^{II} - \\xi\\right)!} \\right)} + \\log{\\left(\\frac{1}{\\left(N_1^{II} - \\xi\\right)!} \\right)}$"
      ],
      "text/plain": [
       "-2*\\xi*log(V^{II}) + log(factorial(N_0^{II})) + log(factorial(N_1^{II})) + log(1/factorial(N_0^{II} - \\xi)) + log(1/factorial(N_1^{II} - \\xi))"
      ]
     },
     "execution_count": 4,
     "metadata": {},
     "output_type": "execute_result"
    }
   ],
   "source": [
    "delta_S_1 = S.subs(V,volume_1).subs(N, anion_1-ksi) - S.subs(V,volume_1).subs(N, anion_1) + S.subs(V,volume_1).subs(N, cation_1-ksi) - S.subs(V,volume_1).subs(N, cation_1)\n",
    "delta_S_1.factor()"
   ]
  },
  {
   "cell_type": "code",
   "execution_count": 5,
   "metadata": {},
   "outputs": [
    {
     "data": {
      "text/latex": [
       "$\\displaystyle - 2 \\xi \\log{\\left(V^{II} \\right)} + 2 \\xi \\log{\\left(V^{I} \\right)} + \\log{\\left(N_0^{II}! \\right)} + \\log{\\left(N_0^{I}! \\right)} + \\log{\\left(N_1^{II}! \\right)} + \\log{\\left(N_1^{I}! \\right)} + \\log{\\left(\\frac{1}{\\left(N_0^{II} - \\xi\\right)!} \\right)} + \\log{\\left(\\frac{1}{\\left(N_0^{I} + \\xi\\right)!} \\right)} + \\log{\\left(\\frac{1}{\\left(N_1^{II} - \\xi\\right)!} \\right)} + \\log{\\left(\\frac{1}{\\left(N_1^{I} + \\xi\\right)!} \\right)}$"
      ],
      "text/plain": [
       "-2*\\xi*log(V^{II}) + 2*\\xi*log(V^{I}) + log(factorial(N_0^{II})) + log(factorial(N_0^{I})) + log(factorial(N_1^{II})) + log(factorial(N_1^{I})) + log(1/factorial(N_0^{II} - \\xi)) + log(1/factorial(N_0^{I} + \\xi)) + log(1/factorial(N_1^{II} - \\xi)) + log(1/factorial(N_1^{I} + \\xi))"
      ]
     },
     "execution_count": 5,
     "metadata": {},
     "output_type": "execute_result"
    }
   ],
   "source": [
    "delta_S = delta_S_0+delta_S_1\n",
    "delta_S.simplify()"
   ]
  },
  {
   "cell_type": "code",
   "execution_count": 12,
   "metadata": {},
   "outputs": [
    {
     "data": {
      "text/latex": [
       "$\\displaystyle \\log{\\left(\\frac{N_0^{II} N_1^{II} \\left(V^{I}\\right)^{2}}{\\left(V^{II}\\right)^{2} \\left(N_0^{I} + 1\\right) \\left(N_1^{I} + 1\\right)} \\right)}$"
      ],
      "text/plain": [
       "log(N_0^{II}*N_1^{II}*V^{I}**2/(V^{II}**2*(N_0^{I} + 1)*(N_1^{I} + 1)))"
      ]
     },
     "execution_count": 12,
     "metadata": {},
     "output_type": "execute_result"
    }
   ],
   "source": [
    "sympy.logcombine(delta_S.subs(ksi, 1).simplify())"
   ]
  },
  {
   "cell_type": "code",
   "execution_count": 13,
   "metadata": {},
   "outputs": [
    {
     "data": {
      "text/latex": [
       "$\\displaystyle \\log{\\left(\\frac{N_0^{I} N_1^{I} \\left(V^{II}\\right)^{2}}{\\left(V^{I}\\right)^{2} \\left(N_0^{II} + 1\\right) \\left(N_1^{II} + 1\\right)} \\right)}$"
      ],
      "text/plain": [
       "log(N_0^{I}*N_1^{I}*V^{II}**2/(V^{I}**2*(N_0^{II} + 1)*(N_1^{II} + 1)))"
      ]
     },
     "execution_count": 13,
     "metadata": {},
     "output_type": "execute_result"
    }
   ],
   "source": [
    "sympy.logcombine(delta_S.subs(ksi, -1).simplify())"
   ]
  }
 ],
 "metadata": {
  "interpreter": {
   "hash": "38f3b0c072555944cc0d2c7d9129aef9a4bd892a20e31839405309ce63764e41"
  },
  "kernelspec": {
   "display_name": "Python 3.9.5 64-bit ('idp_espresso': conda)",
   "name": "python3"
  },
  "language_info": {
   "codemirror_mode": {
    "name": "ipython",
    "version": 3
   },
   "file_extension": ".py",
   "mimetype": "text/x-python",
   "name": "python",
   "nbconvert_exporter": "python",
   "pygments_lexer": "ipython3",
   "version": "3.9.5"
  },
  "orig_nbformat": 4
 },
 "nbformat": 4,
 "nbformat_minor": 2
}
